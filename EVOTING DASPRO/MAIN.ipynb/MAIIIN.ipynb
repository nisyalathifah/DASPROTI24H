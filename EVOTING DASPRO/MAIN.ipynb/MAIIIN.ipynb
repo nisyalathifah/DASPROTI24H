{
 "cells": [
  {
   "cell_type": "code",
   "execution_count": 1,
   "id": "27cddf0e-6bde-46a3-87fb-c9546088cff3",
   "metadata": {},
   "outputs": [],
   "source": [
    "# List of dictionary untuk data pemilih dan calon\n",
    "pemilih_list = []\n",
    "calon_list = []"
   ]
  },
  {
   "cell_type": "code",
   "execution_count": 2,
   "id": "b762d5ee-90ec-406a-bde0-4e681c59214b",
   "metadata": {},
   "outputs": [],
   "source": [
    "def tambah_pemilih(pemilih_list, id, nama, jurusan):\n",
    "    for p in pemilih_list:\n",
    "        if p[\"id\"] == id:\n",
    "            print(\"❌ ID pemilih sudah terdaftar!\")\n",
    "            return\n",
    "    pemilih_list.append({\n",
    "        \"id\": id,\n",
    "        \"nama\": nama,\n",
    "        \"jurusan\": jurusan,\n",
    "        \"sudah_memilih\": False\n",
    "    })\n",
    "    print(\"✅ Pemilih berhasil ditambahkan.\")\n"
   ]
  },
  {
   "cell_type": "code",
   "execution_count": 3,
   "id": "e0ff540c-9ca0-45e6-a9f7-34701c0d7a38",
   "metadata": {},
   "outputs": [],
   "source": [
    "def tambah_calon(calon_list, id, nama, visi):\n",
    "    for c in calon_list:\n",
    "        if c[\"id\"] == id:\n",
    "            print(\"❌ ID calon sudah terdaftar!\")\n",
    "            return\n",
    "    calon_list.append({\n",
    "        \"id\": id,\n",
    "        \"nama\": nama,\n",
    "        \"visi\": visi,\n",
    "        \"jumlah_suara\": 0\n",
    "    })\n",
    "    print(\"✅ Calon berhasil ditambahkan.\")"
   ]
  },
  {
   "cell_type": "code",
   "execution_count": 4,
   "id": "48594964-c7a8-4d04-8a08-b0479e0a6dd7",
   "metadata": {},
   "outputs": [],
   "source": [
    "def voting(pemilih_list, calon_list, id_pemilih, id_calon):\n",
    "    pemilih = next((p for p in pemilih_list if p[\"id\"] == id_pemilih), None)\n",
    "    if not pemilih:\n",
    "        print(\"❌ ID pemilih tidak ditemukan.\")\n",
    "        return\n",
    "    if pemilih[\"sudah_memilih\"]:\n",
    "        print(\"⚠️ Pemilih sudah menggunakan hak suaranya.\")\n",
    "        return\n",
    "\n",
    "    calon = next((c for c in calon_list if c[\"id\"] == id_calon), None)\n",
    "    if not calon:\n",
    "        print(\"❌ ID calon tidak ditemukan.\")\n",
    "        return\n",
    "\n",
    "    calon[\"jumlah_suara\"] += 1\n",
    "    pemilih[\"sudah_memilih\"] = True\n",
    "    print(\"🗳️ Voting berhasil.\")"
   ]
  },
  {
   "cell_type": "code",
   "execution_count": 5,
   "id": "78513a3a-b866-4b74-942e-ed3c2e5d4012",
   "metadata": {},
   "outputs": [],
   "source": [
    "def tampilkan_hasil(calon_list):\n",
    "    if not calon_list:\n",
    "        print(\"Belum ada calon.\")\n",
    "        return\n",
    "    print(\"\\n📊 Hasil Sementara:\")\n",
    "    for c in calon_list:\n",
    "        print(f\"{c['nama']} ({c['id']}): {c['jumlah_suara']} suara\")"
   ]
  },
  {
   "cell_type": "code",
   "execution_count": 6,
   "id": "10157706-c3f2-490d-bc9b-6bff542d0185",
   "metadata": {},
   "outputs": [],
   "source": [
    "def tampilkan_statistik(pemilih_list, calon_list):\n",
    "    total = len(pemilih_list)\n",
    "    sudah = sum(1 for p in pemilih_list if p[\"sudah_memilih\"])\n",
    "    persen = (sudah / total * 100) if total > 0 else 0\n",
    "\n",
    "    print(\"\\n📈 Statistik Pemilu:\")\n",
    "    print(f\"Total pemilih       : {total}\")\n",
    "    print(f\"Sudah memilih       : {sudah}\")\n",
    "    print(f\"Persentase partisipasi : {persen:.2f}%\")\n",
    "\n",
    "    if calon_list:\n",
    "        calon_teratas = max(calon_list, key=lambda c: c[\"jumlah_suara\"])\n",
    "        print(f\"Pemenang sementara  : {calon_teratas['nama']} ({calon_teratas['jumlah_suara']} suara)\")\n"
   ]
  },
  {
   "cell_type": "code",
   "execution_count": 7,
   "id": "6ef08b5f-9127-46e5-8ade-8a5881bf87bc",
   "metadata": {},
   "outputs": [],
   "source": [
    "def menu():\n",
    "    while True:\n",
    "        print(\"\\n===== MENU E-VOTING =====\")\n",
    "        print(\"1. Tambah Pemilih\")\n",
    "        print(\"2. Tambah Calon\")\n",
    "        print(\"3. Voting\")\n",
    "        print(\"4. Lihat Hasil Sementara\")\n",
    "        print(\"5. Statistik Pemilu\")\n",
    "        print(\"6. Keluar\")\n",
    "        pilih = input(\"Pilih menu: \")\n",
    "\n",
    "        if pilih == \"1\":\n",
    "            id = input(\"ID Pemilih: \")\n",
    "            nama = input(\"Nama: \")\n",
    "            jurusan = input(\"Jurusan: \")\n",
    "            tambah_pemilih(pemilih_list, id, nama, jurusan)\n",
    "\n",
    "        elif pilih == \"2\":\n",
    "            id = input(\"ID Calon: \")\n",
    "            nama = input(\"Nama: \")\n",
    "            visi = input(\"Visi Misi: \")\n",
    "            tambah_calon(calon_list, id, nama, visi)\n",
    "\n",
    "        elif pilih == \"3\":\n",
    "            id_pemilih = input(\"ID Pemilih: \")\n",
    "            id_calon = input(\"ID Calon: \")\n",
    "            voting(pemilih_list, calon_list, id_pemilih, id_calon)\n",
    "\n",
    "        elif pilih == \"4\":\n",
    "            tampilkan_hasil(calon_list)\n",
    "\n",
    "        elif pilih == \"5\":\n",
    "            tampilkan_statistik(pemilih_list, calon_list)\n",
    "\n",
    "        elif pilih == \"6\":\n",
    "            print(\"Terima kasih!\")\n",
    "            break\n",
    "\n",
    "        else:\n",
    "            print(\"❌ Pilihan tidak valid.\")\n"
   ]
  },
  {
   "cell_type": "code",
   "execution_count": null,
   "id": "1f1c010e-1048-41e7-85de-2ea5a4012c36",
   "metadata": {},
   "outputs": [
    {
     "name": "stdout",
     "output_type": "stream",
     "text": [
      "\n",
      "===== MENU E-VOTING =====\n",
      "1. Tambah Pemilih\n",
      "2. Tambah Calon\n",
      "3. Voting\n",
      "4. Lihat Hasil Sementara\n",
      "5. Statistik Pemilu\n",
      "6. Keluar\n"
     ]
    },
    {
     "name": "stdin",
     "output_type": "stream",
     "text": [
      "Pilih menu:  1\n",
      "ID Pemilih:  PM001\n",
      "Nama:  AYU\n",
      "Jurusan:  SI\n"
     ]
    },
    {
     "name": "stdout",
     "output_type": "stream",
     "text": [
      "✅ Pemilih berhasil ditambahkan.\n",
      "\n",
      "===== MENU E-VOTING =====\n",
      "1. Tambah Pemilih\n",
      "2. Tambah Calon\n",
      "3. Voting\n",
      "4. Lihat Hasil Sementara\n",
      "5. Statistik Pemilu\n",
      "6. Keluar\n"
     ]
    },
    {
     "name": "stdin",
     "output_type": "stream",
     "text": [
      "Pilih menu:  2\n",
      "ID Calon:  CLOO1\n",
      "Nama:  BUDI\n"
     ]
    }
   ],
   "source": [
    "menu()"
   ]
  },
  {
   "cell_type": "code",
   "execution_count": null,
   "id": "cf1fb277-e966-44c3-93f6-26f0354b7209",
   "metadata": {},
   "outputs": [],
   "source": []
  }
 ],
 "metadata": {
  "kernelspec": {
   "display_name": "Python 3 (ipykernel)",
   "language": "python",
   "name": "python3"
  },
  "language_info": {
   "codemirror_mode": {
    "name": "ipython",
    "version": 3
   },
   "file_extension": ".py",
   "mimetype": "text/x-python",
   "name": "python",
   "nbconvert_exporter": "python",
   "pygments_lexer": "ipython3",
   "version": "3.12.7"
  }
 },
 "nbformat": 4,
 "nbformat_minor": 5
}
