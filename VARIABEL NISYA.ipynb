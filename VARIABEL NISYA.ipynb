{
 "cells": [
  {
   "cell_type": "code",
   "execution_count": null,
   "id": "f52cd0a1-3f8f-48b6-8d81-e924d2e9fc2b",
   "metadata": {},
   "outputs": [],
   "source": []
  },
  {
   "cell_type": "code",
   "execution_count": 7,
   "id": "af569e0f-4849-42cd-9e4d-15ee4b42e160",
   "metadata": {},
   "outputs": [
    {
     "name": "stdout",
     "output_type": "stream",
     "text": [
      "Nama : Tedi\n",
      "Alamat : Jl. Cisaat\n",
      "Umur : 23\n",
      "Nilai Pemrograman : 85.7\n",
      "Status Menikah : False\n",
      "Provinsi : 7413412\n"
     ]
    }
   ],
   "source": [
    "name = \"Tedi\"\n",
    "address,province = \"Jl. Cisaat\",\"7413412\"\n",
    "age = 23\n",
    "scorePython = 85.7\n",
    "isMarried = False\n",
    "\n",
    "print(\"Nama :\",name)\n",
    "print(\"Alamat :\",address)\n",
    "print(\"Umur :\",age)\n",
    "print(\"Nilai Pemrograman :\", scorePython)\n",
    "print(\"Status Menikah :\", isMarried)\n",
    "print(\"Provinsi :\", province)"
   ]
  },
  {
   "cell_type": "code",
   "execution_count": 6,
   "id": "a5d0cac7-ae08-476c-b976-a42504210b6f",
   "metadata": {},
   "outputs": [
    {
     "name": "stdout",
     "output_type": "stream",
     "text": [
      "Tipe data <name> : <class 'str'>\n",
      "Tipe data <address> : <class 'str'>\n",
      "Tipe data <age> : <class 'int'>\n",
      "Tipe data <scorePython>: <class 'float'>\n",
      "Tipe data <isMarried> : <class 'bool'>\n"
     ]
    }
   ],
   "source": [
    "print(\"Tipe data <name> :\",type(name))\n",
    "print(\"Tipe data <address> :\",type(address))\n",
    "print(\"Tipe data <age> :\",type(age))\n",
    "print(\"Tipe data <scorePython>:\",type(scorePython))\n",
    "print(\"Tipe data <isMarried> :\",type(isMarried))"
   ]
  },
  {
   "cell_type": "code",
   "execution_count": null,
   "id": "488fd01f-d0d0-4709-944e-19e97bb92009",
   "metadata": {},
   "outputs": [],
   "source": [
    "#Casting / K0nversi Tipe Data \n",
    "#1. String ke (int,float,boolean)\n",
    "strToInt = int(province)\n",
    "strToFloat = float(province)\n",
    "strToBool = bool(province)\n",
    "print(strToInt +2,strToFloat,strToBool, sep=\"-\")\n",
    "\n",
    "#2.Int ke (str,float,boolean)\n",
    "intTostr = str(age) \n",
    "intToFloat = float(age)\n",
    "intToBool = bool(age)\n",
    "print(intTostr, intToFloat, intToBool, sep=\"-\"\n",
    "\n",
    "#3. Float ke (int, str, boolean)\n",
    "FloatToStr = str(scorePython)\n",
    "FoatToInt = int(scorePython)\n",
    "FloatToBool = bool(scorePython)\n",
    "print(FloatToInt, FloatToStr, FloatToBool, sep=\"-\"\n",
    "\n",
    "#4. Boolean ke (int, str, float)\n",
    "BoolToInt = int(isMarried)\n",
    "BoolToStr = str(isMarried)\n",
    "BoolToFloat = float(isMarried)\n",
    "print(BoolToInt, BoolToStr, BoolToFloat, sep=\"_\""
   ]
  },
  {
   "cell_type": "code",
   "execution_count": 13,
   "id": "6ec0d59f-49c0-4e52-9e59-98160e7a3fab",
   "metadata": {},
   "outputs": [
    {
     "name": "stdout",
     "output_type": "stream",
     "text": [
      "Nilai desimal: 500\n",
      "Nilai biner: 10\n",
      "Nilai octal: 255\n",
      "Nilai hexa: 255\n",
      "Nilai biner dari  500 : 0b111110100\n",
      "Nilai octal dari  500 : 0o764\n",
      "Nilai Hexa dari  500 : 0x1f4\n"
     ]
    }
   ],
   "source": [
    "#Tipe Data basis bilangan (desimal,biner,octal,hexa)\n",
    "\n",
    "desimal = 500\n",
    "biner = 0b1010 #10\n",
    "octal = 0o377 #255\n",
    "hexa = 0xff #255\n",
    "\n",
    "print(\"Nilai desimal:\",desimal)\n",
    "print(\"Nilai biner:\",biner)\n",
    "print(\"Nilai octal:\",octal)\n",
    "print (\"Nilai hexa:\",hexa)\n",
    "\n",
    "print(\"Nilai biner dari \",desimal, \":\",bin(desimal))\n",
    "print(\"Nilai octal dari \",desimal, \":\",oct(desimal))\n",
    "print(\"Nilai Hexa dari \",desimal, \":\",hex(desimal))\n",
    "      \n"
   ]
  },
  {
   "cell_type": "code",
   "execution_count": 15,
   "id": "773f56d6-e827-4dee-bd01-252860175d4b",
   "metadata": {},
   "outputs": [
    {
     "name": "stdout",
     "output_type": "stream",
     "text": [
      "B\n",
      "7\n",
      "G\n"
     ]
    }
   ],
   "source": [
    "city = \"BANDUNG\"\n",
    "length = len(city)\n",
    "print(city[0])\n",
    "print(length)\n",
    "print(city[length-1])"
   ]
  },
  {
   "cell_type": "code",
   "execution_count": 36,
   "id": "9e9262c8-6ddf-4abe-aaa4-84dcf588b4ad",
   "metadata": {},
   "outputs": [
    {
     "name": "stdout",
     "output_type": "stream",
     "text": [
      "['Bandung', 'Sukabumi', 'Bogor', 'Jakarta', 'Medan']\n",
      "Bandung\n",
      "Medan\n",
      "M\n",
      "n\n",
      "['Bali', 'Sukabumi', 'Bogor', 'Jakarta', 'Medan']\n",
      "('Andi', 'Ferdi', 'Raihan')\n",
      "Ferdi\n",
      "{'name': 'Robi', 'age': 25, 'address': {'street': 'Cisaat', 'number': 21, 'province': 'Jawa Barat'}, 'isMarried': True, 'hobbies': ['Basket Ball', 'Football']}\n",
      "25\n",
      "Jawa Barat\n",
      "Basket Ball\n"
     ]
    },
    {
     "ename": "NameError",
     "evalue": "name 'studentList' is not defined",
     "output_type": "error",
     "traceback": [
      "\u001b[1;31m---------------------------------------------------------------------------\u001b[0m",
      "\u001b[1;31mNameError\u001b[0m                                 Traceback (most recent call last)",
      "Cell \u001b[1;32mIn[36], line 60\u001b[0m\n\u001b[0;32m     33\u001b[0m \u001b[38;5;28mprint\u001b[39m(studentData[\u001b[38;5;124m\"\u001b[39m\u001b[38;5;124mhobbies\u001b[39m\u001b[38;5;124m\"\u001b[39m][\u001b[38;5;241m0\u001b[39m])\n\u001b[0;32m     35\u001b[0m StudentList \u001b[38;5;241m=\u001b[39m [\n\u001b[0;32m     36\u001b[0m      {\n\u001b[0;32m     37\u001b[0m         \u001b[38;5;124m\"\u001b[39m\u001b[38;5;124mname\u001b[39m\u001b[38;5;124m\"\u001b[39m : \u001b[38;5;124m\"\u001b[39m\u001b[38;5;124mRobi\u001b[39m\u001b[38;5;124m\"\u001b[39m,\n\u001b[1;32m   (...)\u001b[0m\n\u001b[0;32m     58\u001b[0m }\n\u001b[0;32m     59\u001b[0m ]\n\u001b[1;32m---> 60\u001b[0m \u001b[38;5;28mprint\u001b[39m(studentList[\u001b[38;5;241m1\u001b[39m][\u001b[38;5;124m\"\u001b[39m\u001b[38;5;124maddress\u001b[39m\u001b[38;5;124m\"\u001b[39m][\u001b[38;5;124m\"\u001b[39m\u001b[38;5;124mprovince\u001b[39m\u001b[38;5;124m\"\u001b[39m])\n",
      "\u001b[1;31mNameError\u001b[0m: name 'studentList' is not defined"
     ]
    }
   ],
   "source": [
    "#Tipe data Collection\n",
    "cities = [\"Bandung\",\"Sukabumi\",\"Bogor\",\"Jakarta\",\"Medan\"]\n",
    "lengthCities = len(cities)\n",
    "print(cities)\n",
    "print(cities[0])\n",
    "print(cities[lengthCities-1])\n",
    "print(cities[lengthCities-1][0])\n",
    "print(cities[lengthCities-1][len(cities[lengthCities-1])-1])\n",
    "cities[0] = \"Bali\"\n",
    "#cities[5] = \"Malang\" akan menyebabkan error out of range\n",
    "print(cities)\n",
    "\n",
    "names = (\"Andi\",\"Ferdi\",\"Raihan\")\n",
    "print(names)\n",
    "print(names[1])\n",
    "#names[0] = \"Dedi\" error immutable tuple\n",
    "\n",
    "studentData = {\n",
    "    \"name\" : \"Robi\",\n",
    "    \"age\" : 25,\n",
    "    \"address\" : {\n",
    "        \"street\" : \"Cisaat\",\n",
    "        \"number\" : 21,\n",
    "        \"province\" : \"Jawa Barat\",\n",
    "    },\n",
    "    \"isMarried\": True,\n",
    "    \"hobbies\" : [\"Basket Ball\", \"Football\"]\n",
    "}\n",
    "\n",
    "print(studentData)\n",
    "print(studentData[\"age\"])\n",
    "print(studentData[\"address\"][\"province\"])\n",
    "print(studentData[\"hobbies\"][0])\n",
    "\n",
    "StudentList = [\n",
    "     {\n",
    "        \"name\" : \"Robi\",\n",
    "        \"age\" : 25,\n",
    "        \"address\" : {\n",
    "            \"street\" : \"cisaat\",\n",
    "            \"number\" : 21,\n",
    "            \"province\" : \"Jawa Barat\",\n",
    "        },\n",
    "        \"isMarried\": True,\n",
    "        \"hobbies\" : [\"Basket Ball\", \"Football\"]\n",
    "    },\n",
    "    \n",
    "     {\n",
    "        \"name\" : \"Dedi\",\n",
    "        \"age\" : 15,\n",
    "        \"address\" : {\n",
    "            \"street\" : \"Bogor\",\n",
    "            \"number\" : 29,\n",
    "            \"province\" : \"Jawa Barat\",\n",
    "        },\n",
    "        \"isMarried\": True,\n",
    "        \"hobbies\" : [\"Chess\", \"Singing\"]\n",
    "}\n",
    "]\n",
    "print(studentList[1][\"address\"][\"province\"])"
   ]
  },
  {
   "cell_type": "code",
   "execution_count": 37,
   "id": "56bd199c-fce3-4daf-b56b-459c4c80a7a2",
   "metadata": {},
   "outputs": [
    {
     "ename": "SyntaxError",
     "evalue": "unterminated string literal (detected at line 3) (3657539812.py, line 3)",
     "output_type": "error",
     "traceback": [
      "\u001b[1;36m  Cell \u001b[1;32mIn[37], line 3\u001b[1;36m\u001b[0m\n\u001b[1;33m    list_list = [[\"name, \"astrid\"], [\"age\", 30], [\"status\", True]]\u001b[0m\n\u001b[1;37m                                                         ^\u001b[0m\n\u001b[1;31mSyntaxError\u001b[0m\u001b[1;31m:\u001b[0m unterminated string literal (detected at line 3)\n"
     ]
    }
   ],
   "source": [
    "#konversi dictionary\n",
    "\n",
    "list_list = [[\"name, \"astrid\"], [\"age\", 30], [\"status\", True]]\n",
    "dictListStudent = dict(list_list)\n",
    "print(dictListStudent)\n",
    "\n",
    "list_Tuple = [(\"name\", \"maysaroh\"), (\"address\", \"Sukabumi\")]\n",
    "dictTupleStudent = dict(list_tuple)\n",
    "print(dicTupleStudent)\n",
    "\n",
    "Tuple_list = [(\"name\", \"tiger\"), (\"type\", \"Mamalia\")]\n",
    "dictTupleAnimal = dict(tuple_list)\n",
    "print(dicTupleAnimal)\n",
    "\n",
    "Tuple_Tuple = [(\"name\", \"crocodile\"), (\"type\", \"Reptile\")]\n",
    "dictTupleAnimal = dict(tuple_tuple)\n",
    "print(dicTupleAnimal)\n",
    "\n",
    "keys = [\"vehicle\", \"Brand\", \"Cc\"]\n",
    "values = [\"car\", \"BMW\", \"2500\"]\n",
    "car = dict(zip(keys,values))\n",
    "print(car)"
   ]
  },
  {
   "cell_type": "code",
   "execution_count": null,
   "id": "787478dc-fb37-4695-8a12-c39d601ecdda",
   "metadata": {},
   "outputs": [],
   "source": []
  },
  {
   "cell_type": "code",
   "execution_count": null,
   "id": "6d439381-9d26-4c41-bc48-bdca542a4e64",
   "metadata": {},
   "outputs": [],
   "source": []
  }
 ],
 "metadata": {
  "kernelspec": {
   "display_name": "Python 3 (ipykernel)",
   "language": "python",
   "name": "python3"
  },
  "language_info": {
   "codemirror_mode": {
    "name": "ipython",
    "version": 3
   },
   "file_extension": ".py",
   "mimetype": "text/x-python",
   "name": "python",
   "nbconvert_exporter": "python",
   "pygments_lexer": "ipython3",
   "version": "3.11.7"
  }
 },
 "nbformat": 4,
 "nbformat_minor": 5
}
