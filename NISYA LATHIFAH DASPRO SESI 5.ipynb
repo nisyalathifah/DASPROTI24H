{
 "cells": [
  {
   "cell_type": "markdown",
   "id": "7f855b00-a7b3-4682-a79f-3f17c6385f92",
   "metadata": {},
   "source": [
    "<h1>biodata</h1>"
   ]
  },
  {
   "cell_type": "code",
   "execution_count": 5,
   "id": "b2833144-5cad-4b1c-954f-5ba80e7731ea",
   "metadata": {},
   "outputs": [
    {
     "name": "stdin",
     "output_type": "stream",
     "text": [
      "Masukkan Nama Lengkap Anda:  nisya lathifah \n",
      "Masukkan TTL Anda:  19 februari 2007\n",
      "Masukkan Alamat Anda:  jl ra kosasih \n",
      "Masukkan Jenis Kelamin Anda:  perempuan\n",
      "Masukkan Agama Anda:  islam\n"
     ]
    },
    {
     "name": "stdout",
     "output_type": "stream",
     "text": [
      "Nama Lengkap : nisya lathifah \n",
      "TTL : 19 februari 2007\n",
      "Alamat : jl ra kosasih \n",
      "Jenis Kelamin : perempuan\n",
      "Agama : islam\n"
     ]
    }
   ],
   "source": [
    "NamaLengkap = input(\"Masukkan Nama Lengkap Anda: \")\n",
    "TTL = input(\"Masukkan TTL Anda: \")\n",
    "Alamat = input(\"Masukkan Alamat Anda: \")\n",
    "JenisKelamin = input(\"Masukkan Jenis Kelamin Anda: \")\n",
    "Agama = input(\"Masukkan Agama Anda: \")\n",
    "    \n",
    "print(\"Nama Lengkap : {}\".format(NamaLengkap))\n",
    "print(\"TTL : {}\".format(TTL))\n",
    "print(\"Alamat : {}\".format(Alamat))\n",
    "print(\"Jenis Kelamin : {}\".format(JenisKelamin))\n",
    "print(\"Agama : {}\".format(Agama))\n"
   ]
  },
  {
   "cell_type": "markdown",
   "id": "244b21b2-1087-4d26-8ab7-7b8e4db26ec6",
   "metadata": {},
   "source": [
    "<h1>kalimat</h1>"
   ]
  },
  {
   "cell_type": "code",
   "execution_count": 9,
   "id": "a3bc44a6-54df-4fba-b8f7-b51c08037db6",
   "metadata": {},
   "outputs": [
    {
     "name": "stdin",
     "output_type": "stream",
     "text": [
      "Masukkan Kalimat: UNIVERSITAS NUSA PUTRA SUKABUMI\n"
     ]
    },
    {
     "name": "stdout",
     "output_type": "stream",
     "text": [
      "a. putra nusa\n",
      "b. NIVERSITAS NSA PTRA SKABMI\n",
      "c. SUKABUMI PUTRA NUSA UNIVERSITAS\n",
      "d. UNPS\n",
      "e. TAS SAPU BUMI\n"
     ]
    }
   ],
   "source": [
    "#UNIVERSITAS NUSA PUTRA SUKABUMI\n",
    "teks = input(\"Masukkan Kalimat:\")\n",
    "kata = teks.split()\n",
    "\n",
    "# a. putra nusa\n",
    "Output_a = \"{} {}\".format(kata[2].lower(), kata[1].lower())\n",
    "print(\"a.\", Output_a)\n",
    "# b. NIVERSITAS NSA PTRA SKABMI\n",
    "Output_b = \"{} {}{} {}{} {}{}{}\".format(teks[1:11], teks[12],teks[14:16], teks[17],teks[19:22], teks[23],teks[25:28],teks[29:])\n",
    "print(\"b.\", Output_b)\n",
    "# c. SUKABUMI PUTRA NUSA UNIVERSITAS\n",
    "Output_c = \"{} {} {} {}\".format(kata[3], kata[2], kata[1], kata[0])\n",
    "print(\"c.\", Output_c)\n",
    "# d. UNPS\n",
    "Output_d = \"{}{}{}{}\".format(teks[0], teks[12], teks[17], teks[23])\n",
    "print(\"d.\", Output_d)\n",
    "# e. TAS SAPU BUMI\n",
    "Output_e = \"{} {}{} {}\".format(teks[8:11], teks[14:16], teks[17:19], teks[27:])\n",
    "print(\"e.\", Output_e)"
   ]
  },
  {
   "cell_type": "code",
   "execution_count": null,
   "id": "e17060f8-0496-4f5b-9bc0-01c734ff9de5",
   "metadata": {},
   "outputs": [],
   "source": []
  },
  {
   "cell_type": "code",
   "execution_count": null,
   "id": "3b549a4f-adc5-4ff6-a997-26e95342e064",
   "metadata": {},
   "outputs": [],
   "source": []
  }
 ],
 "metadata": {
  "kernelspec": {
   "display_name": "Python 3 (ipykernel)",
   "language": "python",
   "name": "python3"
  },
  "language_info": {
   "codemirror_mode": {
    "name": "ipython",
    "version": 3
   },
   "file_extension": ".py",
   "mimetype": "text/x-python",
   "name": "python",
   "nbconvert_exporter": "python",
   "pygments_lexer": "ipython3",
   "version": "3.12.7"
  }
 },
 "nbformat": 4,
 "nbformat_minor": 5
}
