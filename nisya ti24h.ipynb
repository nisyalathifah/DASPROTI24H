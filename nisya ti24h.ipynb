{
 "cells": [
  {
   "cell_type": "markdown",
   "id": "17fc6786-bba0-4f4d-8002-ea06d142e5d4",
   "metadata": {},
   "source": [
    "<img src= \"https://www.startpage.com/av/proxy-image?piurl=http%3A%2F%2Fpluspng.com%2Fimg-png%2Fpython-logo-png-big-image-png-2400.png&sp=1739947038T73bcf6f1d482c5bcb1d70ec1677633d78a97c35c35a479d570ded3c79498c705\" width=\"300\" ></CENTER><BR>\n",
    "pada jupiter notebooks jenis <b>cell</b> terbagi menjadi \n",
    "<ol>\n",
    "    <li>M (Mark Down) -> M</li>\n",
    "    <li>Y (Code) -> Y</li>\n",
    "</ol>\n",
    "<hr>\n"
   ]
  },
  {
   "cell_type": "markdown",
   "id": "74dd477b-7bfb-4556-a960-9850c44413d0",
   "metadata": {},
   "source": [
    "Cara menambahkan <b>cell<b/> terbagi menjadi 2:\n",
    "<ul>\n",
    "  <li>A -(Above) Menambah diatas cell aktif<li>\n",
    "  <li>B -(Below) Menambah dibawah cell aktif<li>\n",
    "</ul>\n",
    "\n",
    "<table>\n",
    "   <tr>\n",
    "       <td>perintah<td>\n",
    "           <td>keterangan<td>\n",
    "               \n",
    "   </tr> \n",
    "   <tr>\n",
    "       <td>ctrl + enter</td>\n",
    "       <td>Running program dengan fokus di cell aktif</td>\n",
    "   </tr> \n",
    "   <tr>\n",
    "       <td>shift + enter</td>\n",
    "       <td>Running program dengan fokus di cell berikutnya</td>\n",
    "   </tr> \n",
    "</table>"
   ]
  },
  {
   "cell_type": "code",
   "execution_count": 3,
   "id": "e4e7dfc7-b16d-46c3-81f2-0f92064f9313",
   "metadata": {},
   "outputs": [
    {
     "name": "stdout",
     "output_type": "stream",
     "text": [
      "python is very easy\n",
      "9\n"
     ]
    },
    {
     "data": {
      "text/plain": [
       "6"
      ]
     },
     "execution_count": 3,
     "metadata": {},
     "output_type": "execute_result"
    }
   ],
   "source": [
    " #this is comment\n",
    " print(\"python is very easy\") \n",
    " data = \"4\"\n",
    " print(int(data) + 5)\n",
    " data\n",
    " 3+3"
   ]
  }
 ],
 "metadata": {
  "kernelspec": {
   "display_name": "Python 3 (ipykernel)",
   "language": "python",
   "name": "python3"
  },
  "language_info": {
   "codemirror_mode": {
    "name": "ipython",
    "version": 3
   },
   "file_extension": ".py",
   "mimetype": "text/x-python",
   "name": "python",
   "nbconvert_exporter": "python",
   "pygments_lexer": "ipython3",
   "version": "3.11.7"
  }
 },
 "nbformat": 4,
 "nbformat_minor": 5
}
