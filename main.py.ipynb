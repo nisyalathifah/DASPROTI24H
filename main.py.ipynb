{
 "cells": [
  {
   "cell_type": "code",
   "execution_count": 1,
   "id": "048c4c91-6ff7-4944-b883-2862a4b8ef75",
   "metadata": {},
   "outputs": [],
   "source": [
    "# List of dictionary untuk data pemilih dan calon\n",
    "pemilih_list = []\n",
    "calon_list = []"
   ]
  },
  {
   "cell_type": "code",
   "execution_count": 2,
   "id": "b7e531e5-a385-4167-84db-a0919123faa8",
   "metadata": {},
   "outputs": [],
   "source": [
    "def tambah_pemilih(pemilih_list, id, nama, jurusan):\n",
    "    for p in pemilih_list:\n",
    "        if p[\"id\"] == id:\n",
    "            print(\"❌ ID pemilih sudah terdaftar!\")\n",
    "            return\n",
    "    pemilih_list.append({\n",
    "        \"id\": id,\n",
    "        \"nama\": nama,\n",
    "        \"jurusan\": jurusan,\n",
    "        \"sudah_memilih\": False\n",
    "    })\n",
    "    print(\"✅ Pemilih berhasil ditambahkan.\")\n"
   ]
  },
  {
   "cell_type": "code",
   "execution_count": 3,
   "id": "cb9219a8-bec8-4304-a607-9c86a6335720",
   "metadata": {},
   "outputs": [],
   "source": [
    "def tambah_calon(calon_list, id, nama, visi):\n",
    "    for c in calon_list:\n",
    "        if c[\"id\"] == id:\n",
    "            print(\"❌ ID calon sudah terdaftar!\")\n",
    "            return\n",
    "    calon_list.append({\n",
    "        \"id\": id,\n",
    "        \"nama\": nama,\n",
    "        \"visi\": visi,\n",
    "        \"jumlah_suara\": 0\n",
    "    })\n",
    "    print(\"✅ Calon berhasil ditambahkan.\")"
   ]
  },
  {
   "cell_type": "code",
   "execution_count": 4,
   "id": "a69833f2-85bd-4dc8-9f54-ce6f6358eefa",
   "metadata": {},
   "outputs": [],
   "source": [
    "def voting(pemilih_list, calon_list, id_pemilih, id_calon):\n",
    "    pemilih = next((p for p in pemilih_list if p[\"id\"] == id_pemilih), None)\n",
    "    if not pemilih:\n",
    "        print(\"❌ ID pemilih tidak ditemukan.\")\n",
    "        return\n",
    "    if pemilih[\"sudah_memilih\"]:\n",
    "        print(\"⚠️ Pemilih sudah menggunakan hak suaranya.\")\n",
    "        return\n",
    "\n",
    "    calon = next((c for c in calon_list if c[\"id\"] == id_calon), None)\n",
    "    if not calon:\n",
    "        print(\"❌ ID calon tidak ditemukan.\")\n",
    "        return\n",
    "\n",
    "    calon[\"jumlah_suara\"] += 1\n",
    "    pemilih[\"sudah_memilih\"] = True\n",
    "    print(\"🗳️ Voting berhasil.\")"
   ]
  },
  {
   "cell_type": "code",
   "execution_count": 5,
   "id": "3351d485-0d74-4771-9ed4-848373a32d7a",
   "metadata": {},
   "outputs": [],
   "source": [
    "def tampilkan_hasil(calon_list):\n",
    "    if not calon_list:\n",
    "        print(\"Belum ada calon.\")\n",
    "        return\n",
    "    print(\"\\n📊 Hasil Sementara:\")\n",
    "    for c in calon_list:\n",
    "        print(f\"{c['nama']} ({c['id']}): {c['jumlah_suara']} suara\")\n"
   ]
  },
  {
   "cell_type": "code",
   "execution_count": 6,
   "id": "cf7f1ad4-d490-42b5-8092-f2c0394a3635",
   "metadata": {},
   "outputs": [],
   "source": [
    "def tampilkan_statistik(pemilih_list, calon_list):\n",
    "    total = len(pemilih_list)\n",
    "    sudah = sum(1 for p in pemilih_list if p[\"sudah_memilih\"])\n",
    "    persen = (sudah / total * 100) if total > 0 else 0\n",
    "\n",
    "    print(\"\\n📈 Statistik Pemilu:\")\n",
    "    print(f\"Total pemilih       : {total}\")\n",
    "    print(f\"Sudah memilih       : {sudah}\")\n",
    "    print(f\"Persentase partisipasi : {persen:.2f}%\")\n",
    "\n",
    "    if calon_list:\n",
    "        calon_teratas = max(calon_list, key=lambda c: c[\"jumlah_suara\"])\n",
    "        print(f\"Pemenang sementara  : {calon_teratas['nama']} ({calon_teratas['jumlah_suara']} suara)\")\n"
   ]
  },
  {
   "cell_type": "code",
   "execution_count": 7,
   "id": "be3b5bb1-c59a-479d-95cd-c11aab79d2f8",
   "metadata": {},
   "outputs": [],
   "source": [
    "def menu():\n",
    "    while True:\n",
    "        print(\"\\n===== MENU E-VOTING =====\")\n",
    "        print(\"1. Tambah Pemilih\")\n",
    "        print(\"2. Tambah Calon\")\n",
    "        print(\"3. Voting\")\n",
    "        print(\"4. Lihat Hasil Sementara\")\n",
    "        print(\"5. Statistik Pemilu\")\n",
    "        print(\"6. Keluar\")\n",
    "        pilih = input(\"Pilih menu: \")\n",
    "\n",
    "        if pilih == \"1\":\n",
    "            id = input(\"ID Pemilih: \")\n",
    "            nama = input(\"Nama: \")\n",
    "            jurusan = input(\"Jurusan: \")\n",
    "            tambah_pemilih(pemilih_list, id, nama, jurusan)\n",
    "\n",
    "        elif pilih == \"2\":\n",
    "            id = input(\"ID Calon: \")\n",
    "            nama = input(\"Nama: \")\n",
    "            visi = input(\"Visi Misi: \")\n",
    "            tambah_calon(calon_list, id, nama, visi)\n",
    "\n",
    "        elif pilih == \"3\":\n",
    "            id_pemilih = input(\"ID Pemilih: \")\n",
    "            id_calon = input(\"ID Calon: \")\n",
    "            voting(pemilih_list, calon_list, id_pemilih, id_calon)\n",
    "\n",
    "        elif pilih == \"4\":\n",
    "            tampilkan_hasil(calon_list)\n",
    "\n",
    "        elif pilih == \"5\":\n",
    "            tampilkan_statistik(pemilih_list, calon_list)\n",
    "\n",
    "        elif pilih == \"6\":\n",
    "            print(\"Terima kasih!\")\n",
    "            break\n",
    "\n",
    "        else:\n",
    "            print(\"❌ Pilihan tidak valid.\")\n"
   ]
  },
  {
   "cell_type": "code",
   "execution_count": 8,
   "id": "ae1fe631-c0c4-4b03-899b-acaf6a37ea96",
   "metadata": {},
   "outputs": [
    {
     "name": "stdout",
     "output_type": "stream",
     "text": [
      "\n",
      "===== MENU E-VOTING =====\n",
      "1. Tambah Pemilih\n",
      "2. Tambah Calon\n",
      "3. Voting\n",
      "4. Lihat Hasil Sementara\n",
      "5. Statistik Pemilu\n",
      "6. Keluar\n"
     ]
    },
    {
     "name": "stdin",
     "output_type": "stream",
     "text": [
      "Pilih menu:  1\n",
      "ID Pemilih:  PM001\n",
      "Nama:  AYU\n",
      "Jurusan:  SI\n"
     ]
    },
    {
     "name": "stdout",
     "output_type": "stream",
     "text": [
      "✅ Pemilih berhasil ditambahkan.\n",
      "\n",
      "===== MENU E-VOTING =====\n",
      "1. Tambah Pemilih\n",
      "2. Tambah Calon\n",
      "3. Voting\n",
      "4. Lihat Hasil Sementara\n",
      "5. Statistik Pemilu\n",
      "6. Keluar\n"
     ]
    },
    {
     "name": "stdin",
     "output_type": "stream",
     "text": [
      "Pilih menu:  2\n",
      "ID Calon:  CL001\n",
      "Nama:  BUDI\n",
      "Visi Misi:  MENUJU KAMPUS EMAS\n"
     ]
    },
    {
     "name": "stdout",
     "output_type": "stream",
     "text": [
      "✅ Calon berhasil ditambahkan.\n",
      "\n",
      "===== MENU E-VOTING =====\n",
      "1. Tambah Pemilih\n",
      "2. Tambah Calon\n",
      "3. Voting\n",
      "4. Lihat Hasil Sementara\n",
      "5. Statistik Pemilu\n",
      "6. Keluar\n"
     ]
    },
    {
     "name": "stdin",
     "output_type": "stream",
     "text": [
      "Pilih menu:  3\n",
      "ID Pemilih:  PM001\n",
      "ID Calon:  CL001\n"
     ]
    },
    {
     "name": "stdout",
     "output_type": "stream",
     "text": [
      "🗳️ Voting berhasil.\n",
      "\n",
      "===== MENU E-VOTING =====\n",
      "1. Tambah Pemilih\n",
      "2. Tambah Calon\n",
      "3. Voting\n",
      "4. Lihat Hasil Sementara\n",
      "5. Statistik Pemilu\n",
      "6. Keluar\n"
     ]
    },
    {
     "name": "stdin",
     "output_type": "stream",
     "text": [
      "Pilih menu:  4\n"
     ]
    },
    {
     "name": "stdout",
     "output_type": "stream",
     "text": [
      "\n",
      "📊 Hasil Sementara:\n",
      "BUDI (CL001): 1 suara\n",
      "\n",
      "===== MENU E-VOTING =====\n",
      "1. Tambah Pemilih\n",
      "2. Tambah Calon\n",
      "3. Voting\n",
      "4. Lihat Hasil Sementara\n",
      "5. Statistik Pemilu\n",
      "6. Keluar\n"
     ]
    },
    {
     "name": "stdin",
     "output_type": "stream",
     "text": [
      "Pilih menu:  5\n"
     ]
    },
    {
     "name": "stdout",
     "output_type": "stream",
     "text": [
      "\n",
      "📈 Statistik Pemilu:\n",
      "Total pemilih       : 1\n",
      "Sudah memilih       : 1\n",
      "Persentase partisipasi : 100.00%\n",
      "Pemenang sementara  : BUDI (1 suara)\n",
      "\n",
      "===== MENU E-VOTING =====\n",
      "1. Tambah Pemilih\n",
      "2. Tambah Calon\n",
      "3. Voting\n",
      "4. Lihat Hasil Sementara\n",
      "5. Statistik Pemilu\n",
      "6. Keluar\n"
     ]
    },
    {
     "name": "stdin",
     "output_type": "stream",
     "text": [
      "Pilih menu:  6\n"
     ]
    },
    {
     "name": "stdout",
     "output_type": "stream",
     "text": [
      "Terima kasih!\n"
     ]
    }
   ],
   "source": [
    "menu()"
   ]
  },
  {
   "cell_type": "code",
   "execution_count": null,
   "id": "cb6750d8-1b4e-4eb9-954e-e8f7d23fe3de",
   "metadata": {},
   "outputs": [],
   "source": []
  }
 ],
 "metadata": {
  "kernelspec": {
   "display_name": "Python 3 (ipykernel)",
   "language": "python",
   "name": "python3"
  },
  "language_info": {
   "codemirror_mode": {
    "name": "ipython",
    "version": 3
   },
   "file_extension": ".py",
   "mimetype": "text/x-python",
   "name": "python",
   "nbconvert_exporter": "python",
   "pygments_lexer": "ipython3",
   "version": "3.12.7"
  }
 },
 "nbformat": 4,
 "nbformat_minor": 5
}
